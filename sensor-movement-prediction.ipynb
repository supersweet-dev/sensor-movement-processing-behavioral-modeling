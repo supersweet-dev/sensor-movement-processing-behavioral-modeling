{
 "metadata": {
  "language_info": {
   "codemirror_mode": {
    "name": "ipython",
    "version": 3
   },
   "file_extension": ".py",
   "mimetype": "text/x-python",
   "name": "python",
   "nbconvert_exporter": "python",
   "pygments_lexer": "ipython3",
   "version": "3.9.2"
  },
  "orig_nbformat": 2,
  "kernelspec": {
   "name": "python392jvsc74a57bd0b966c0226cd4c4e1100ebce742c7ddedf8ad97d1bea1f6a1ab41fc2b092f94b5",
   "display_name": "Python 3.9.2 64-bit"
  },
  "metadata": {
   "interpreter": {
    "hash": "b966c0226cd4c4e1100ebce742c7ddedf8ad97d1bea1f6a1ab41fc2b092f94b5"
   }
  }
 },
 "nbformat": 4,
 "nbformat_minor": 2,
 "cells": [
  {
   "cell_type": "code",
   "execution_count": 11,
   "metadata": {},
   "outputs": [],
   "source": [
    "# The Pandas library helps parse CSV files, or files delimited by specific character.\n",
    "# In this case we use pandas to process our training and test data so we can easily feed it into our program.\n",
    "import pandas as pd\n",
    "\n",
    "# From tree we take the DTC class, which will create a decision tree trained with our data.\n",
    "from sklearn.tree import DecisionTreeClassifier as dtc\n",
    "\n",
    "# From metrics we use acuracy_score to test our outcome against our expectations.\n",
    "from sklearn import metrics"
   ]
  },
  {
   "cell_type": "code",
   "execution_count": 12,
   "metadata": {},
   "outputs": [],
   "source": [
    "# Some constant global variables, labels for our CSV since it has no headers,\n",
    "# the labels we'll use for training, and an array to hold the performance scores\n",
    "featureNames2sensor = [\"sd_front\", \"sd_left\"]\n",
    "featureNames4sensor = [\"sd_front\", \"sd_left\", \"sd_right\", \"sd_back\"]\n",
    "featureNames24sensor = [(\"US\"+ str(x)) for x in range(1, 24)]\n",
    "scores = []"
   ]
  },
  {
   "cell_type": "code",
   "execution_count": 13,
   "metadata": {},
   "outputs": [],
   "source": [
    "# A function to parse our datafiles using Pandas, returns a data frame. It works for training and test sets.\n",
    "def getDataSet(filename, featureNames):\n",
    "    # We specify that there's no index column and feed our header names so the values process\n",
    "    # as we expect them to.\n",
    "    colNames = featureNames + [\"move\"]\n",
    "    dataset = pd.read_csv(filename, index_col=None, header=None, names=colNames)\n",
    "    classes = [\n",
    "        \"Move-Forward\",\n",
    "        \"Slight-Right-Turn\",\n",
    "        \"Sharp-Right-Turn\",\n",
    "        \"Slight-Left-Turn\",\n",
    "    ]\n",
    "    # We simplify our \"label\" field, which is our goal, using a simple function that returns a number representing one of the 4 possible moves\n",
    "    dataset[\"move\"] = dataset[\"move\"].map(lambda n: classes.index(n) + 1)\n",
    "    return dataset"
   ]
  },
  {
   "cell_type": "code",
   "execution_count": 14,
   "metadata": {},
   "outputs": [],
   "source": [
    "def runTest(numSensors, featureNames):\n",
    "  # We call our get set function to generate the sets we'll be using through the program.\n",
    "  trainingset = getDataSet(\"sensor_readings_\" + str(numSensors) + \"_training.csv\", featureNames)\n",
    "  testset = getDataSet(\"sensor_readings_\" + str(numSensors) + \"_test.csv\", featureNames)\n",
    "\n",
    "  # We use the DecisionTreeClassifier constructor to generate a DTC using entropy to decide on splits.\n",
    "  # We feed it our training set and the associated goals to train it.\n",
    "  moveDecider = dtc(criterion=\"entropy\").fit(trainingset[featureNames], trainingset.move)\n",
    "  # To test it, we feed it out test set and it returns an array of predictions.\n",
    "  testPredictions = moveDecider.predict(testset[featureNames])\n",
    "  # We compare our result to our expectations (the test set goals) and store the percentage in our score array.\n",
    "  scores.append(metrics.accuracy_score(testset.move, testPredictions))\n"
   ]
  },
  {
   "cell_type": "code",
   "execution_count": 15,
   "metadata": {},
   "outputs": [
    {
     "output_type": "stream",
     "name": "stdout",
     "text": [
      "Accuracy for intial Decision Tree for 2 sensor data: 1.0\na score of 1 means our predictions were perfect.\nAccuracy for intial Decision Tree for 4 sensor data: 1.0\na score of 1 means our predictions were perfect.\nAccuracy for intial Decision Tree for 24 sensor data: 0.9710648148148148\n"
     ]
    }
   ],
   "source": [
    "runTest(2, featureNames2sensor)\n",
    "print(\"Accuracy for intial Decision Tree for 2 sensor data:\", scores[0])\n",
    "if scores[0] == 1.0:\n",
    "    print(\"a score of 1 means our predictions were perfect.\")\n",
    "runTest(4, featureNames4sensor)\n",
    "print(\"Accuracy for intial Decision Tree for 4 sensor data:\", scores[1])\n",
    "if scores[1] == 1.0:\n",
    "    print(\"a score of 1 means our predictions were perfect.\")\n",
    "runTest(24, featureNames24sensor)\n",
    "print(\"Accuracy for intial Decision Tree for 24 sensor data:\", scores[2])\n",
    "if scores[2] == 1.0:\n",
    "    print(\"a score of 1 means our predictions were perfect.\")\n"
   ]
  }
 ]
}